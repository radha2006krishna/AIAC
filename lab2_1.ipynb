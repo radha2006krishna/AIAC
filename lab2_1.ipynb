{
  "nbformat": 4,
  "nbformat_minor": 0,
  "metadata": {
    "colab": {
      "provenance": [],
      "toc_visible": true,
      "authorship_tag": "ABX9TyMrJoHhypNz8uEtMl3jhBwc",
      "include_colab_link": true
    },
    "kernelspec": {
      "name": "python3",
      "display_name": "Python 3"
    },
    "language_info": {
      "name": "python"
    }
  },
  "cells": [
    {
      "cell_type": "markdown",
      "metadata": {
        "id": "view-in-github",
        "colab_type": "text"
      },
      "source": [
        "<a href=\"https://colab.research.google.com/github/radha2006krishna/AIAC/blob/main/lab2_1.ipynb\" target=\"_parent\"><img src=\"https://colab.research.google.com/assets/colab-badge.svg\" alt=\"Open In Colab\"/></a>"
      ]
    },
    {
      "cell_type": "markdown",
      "source": [
        "Task Description #1\n",
        "●\tUse Google Gemini in Colab to write a Python function that reads a list of numbers and calculates the mean, minimum, and maximum values.\n",
        "\n",
        "Expected Output #1\n",
        "●\tFunctional code with correct output and screenshot.\n",
        "\n",
        "Prompt: write a Python function that reads a list of numbers and calculates the mean, minimum, and maximum values.in dynamic way\n"
      ],
      "metadata": {
        "id": "VR9LQUkrX4uV"
      }
    },
    {
      "cell_type": "code",
      "source": [
        "def analyze_numbers(numbers):\n",
        "  \"\"\"\n",
        "  Calculates the mean, minimum, and maximum values from a list of numbers.\n",
        "\n",
        "  Args:\n",
        "    numbers: A list of numbers.\n",
        "\n",
        "  Returns:\n",
        "    A tuple containing the mean, minimum, and maximum values.\n",
        "    Returns (None, None, None) if the input list is empty.\n",
        "  \"\"\"\n",
        "  if not numbers:\n",
        "    return None, None, None\n",
        "\n",
        "  mean = sum(numbers) / len(numbers)\n",
        "  minimum = min(numbers)\n",
        "  maximum = max(numbers)\n",
        "\n",
        "  return mean, minimum, maximum\n",
        "\n",
        "# Example usage\n",
        "my_list = [1, 5, 2, 8, 3, 9, 4, 6, 7]\n",
        "mean_value, min_value, max_value = analyze_numbers(my_list)\n",
        "\n",
        "print(f\"List: {my_list}\")\n",
        "print(f\"Mean: {mean_value}\")\n",
        "print(f\"Minimum: {min_value}\")\n",
        "print(f\"Maximum: {max_value}\")"
      ],
      "metadata": {
        "colab": {
          "base_uri": "https://localhost:8080/"
        },
        "id": "I8tHUzP6aooe",
        "outputId": "ec63caa3-51ec-4bcf-d055-23510e800ab4"
      },
      "execution_count": null,
      "outputs": [
        {
          "output_type": "stream",
          "name": "stdout",
          "text": [
            "List: [1, 5, 2, 8, 3, 9, 4, 6, 7]\n",
            "Mean: 5.0\n",
            "Minimum: 1\n",
            "Maximum: 9\n"
          ]
        }
      ]
    },
    {
      "cell_type": "markdown",
      "source": [
        "\n",
        "\n",
        "This code defines a Python function called analyze_numbers that takes a list of numbers as input.\n",
        "\n",
        "**Here's a breakdown:**\n",
        "Function Definition: def analyze_numbers(numbers): defines the function named analyze_numbers that accepts one argument, numbers.\n",
        "\n",
        "**Docstring:**\n",
        " The triple-quoted string is a docstring that explains what the function does, its arguments (Args), and what it returns (Returns). It also mentions the case when the input list is empty.\n",
        "\n",
        "**Empty List Check:**\n",
        " if not numbers: checks if the input list is empty. If it is, the function returns None for mean, minimum, and maximum.\n",
        "\n",
        "**Calculate Mean:**\n",
        " mean = sum(numbers) / len(numbers) calculates the mean by summing all numbers in the list and dividing by the number of elements.\n",
        "\n",
        "**Calculate Minimum:**\n",
        " minimum = min(numbers) finds the smallest number in the list using the built-in min() function.\n",
        "\n",
        "**Calculate Maximum:**\n",
        " maximum = max(numbers) finds the largest number in the list using the built-in max() function.\n",
        "\n",
        "**Return Values:**\n",
        " return mean, minimum, maximum returns the calculated mean, minimum, and maximum as a tuple.\n",
        "\n",
        "**Example Usage:**\n",
        "my_list = [1, 5, 2, 8, 3, 9, 4, 6, 7] creates a sample list of numbers.\n",
        "mean_value, min_value, max_value = analyze_numbers(my_list) calls the analyze_numbers function with my_list and unpacks the returned tuple into three variables.\n",
        "The print statements then display the original list and the calculated mean, minimum, and maximum values using f-strings for formatting.\n"
      ],
      "metadata": {
        "id": "xMUxwqeibBZq"
      }
    },
    {
      "cell_type": "markdown",
      "source": [
        "Task Description #2\n",
        "●\tCompare Gemini and Copilot outputs for a Python function that checks whether a number is an Armstrong number. Document the steps, prompts, and outputs.\n",
        "\n",
        "Expected Output #2\n",
        "●\tSide-by-side comparison table with observations and screenshots.\n",
        "\n",
        "prompt:\n",
        "Write a Python function that checks whether a number is an Armstrong number. Document the steps, prompts, and outputs."
      ],
      "metadata": {
        "id": "fPL_OE-CblcW"
      }
    },
    {
      "cell_type": "code",
      "source": [
        "def is_armstrong_number(number):\n",
        "  \"\"\"\n",
        "  Checks if a number is an Armstrong number.\n",
        "\n",
        "  An Armstrong number (or narcissistic number) is a number that is the sum\n",
        "  of its own digits each raised to the power of the number of digits.\n",
        "\n",
        "  Args:\n",
        "    number: The integer to check.\n",
        "\n",
        "  Returns:\n",
        "    True if the number is an Armstrong number, False otherwise.\n",
        "  \"\"\"\n",
        "  # Convert the number to a string to easily access digits and count them\n",
        "  num_str = str(number)\n",
        "  num_digits = len(num_str)\n",
        "  sum_of_powers = 0\n",
        "  for digit in num_str:\n",
        "    sum_of_powers += int(digit) ** num_digits\n",
        "  return sum_of_powers == number\n",
        "print(is_armstrong_number(153))\n",
        "print(is_armstrong_number(9474))\n",
        "print(is_armstrong_number(123))"
      ],
      "metadata": {
        "colab": {
          "base_uri": "https://localhost:8080/"
        },
        "id": "GoEWfhX3d7IJ",
        "outputId": "aed40091-9d47-4153-cf37-1dfd3b57555f"
      },
      "execution_count": null,
      "outputs": [
        {
          "output_type": "stream",
          "name": "stdout",
          "text": [
            "True\n",
            "True\n",
            "False\n"
          ]
        }
      ]
    },
    {
      "cell_type": "markdown",
      "source": [
        "This code defines a Python function called is_armstrong_number that checks if a given integer is an Armstrong number.\n",
        "\n",
        "Here's how it works:\n",
        "\n",
        "Function Definition: def is_armstrong_number(number): defines the function named is_armstrong_number that takes one argument, number.\n",
        "\n",
        "Docstring:\n",
        "\n",
        " The docstring explains what an Armstrong number is, the function's arguments (Args), and what it returns (Returns).\n",
        "\n",
        "Convert to String:\n",
        "\n",
        " num_str = str(number) converts the input number to a string so that each digit can be easily accessed and the number of digits can be counted.\n",
        "\n",
        "Count Digits:\n",
        "\n",
        "num_digits = len(num_str) gets the number of digits in the number.\n",
        "\n",
        "Initialize Sum:\n",
        "\n",
        " sum_of_powers = 0 initializes a variable to store the sum of the digits raised to the power of the number of digits.\n",
        "\n",
        "Calculate Sum of Powers:\n",
        "\n",
        " The for digit in num_str: loop iterates through each character (digit) in the number string.\n",
        "  Inside the loop:\n",
        "int(digit) converts the digit character back to an integer.\n",
        "\n",
        "int(digit) ** num_digits raises the integer value of the digit to the power of the total number of digits.\n",
        "sum_of_powers += ... adds the result to the sum_of_powers.\n",
        "\n",
        "Check Armstrong Condition:\n",
        "\n",
        " return sum_of_powers == number compares the calculated sum_of_powers with the original number. If they are equal, the function returns True, indicating that the number is an Armstrong number. Otherwise, it returns False.\n"
      ],
      "metadata": {
        "id": "jtS_j7m7e86n"
      }
    },
    {
      "cell_type": "markdown",
      "source": [
        "Task Description #3\n",
        "\n",
        "●\tAsk Gemini to explain a Python function (e.g., is_prime(n) or is_palindrome(s)) line by line.\n",
        "\n",
        "●\tChoose either a prime-checking or palindrome-checking function and document the explanation provided by Gemini.\n",
        "Expected Output #3\n",
        "\n",
        "●\tDetailed explanation with the code snippet and Gemini’s response.\n",
        "\n",
        "prompt:generate a code to check whether the given number is prime or pallindrome\n"
      ],
      "metadata": {
        "id": "IUvYaFDofa2K"
      }
    },
    {
      "cell_type": "code",
      "source": [
        "def is_prime(n):\n",
        "  \"\"\"\n",
        "  Checks if a number is prime.\n",
        "\n",
        "  Args:\n",
        "    n: The integer to check.\n",
        "\n",
        "  Returns:\n",
        "    True if n is prime, False otherwise.\n",
        "  \"\"\"\n",
        "  if n <= 1:\n",
        "    return False\n",
        "  for i in range(2, int(n**0.5) + 1):\n",
        "    if n % i == 0:\n",
        "      return False\n",
        "  return True\n",
        "\n",
        "def is_palindrome(s):\n",
        "  \"\"\"\n",
        "  Checks if a string is a palindrome.\n",
        "\n",
        "  Args:\n",
        "    s: The string to check.\n",
        "\n",
        "  Returns:\n",
        "    True if the string is a palindrome, False otherwise.\n",
        "  \"\"\"\n",
        "  # Remove non-alphanumeric characters and convert to lowercase\n",
        "  cleaned_s = ''.join(char.lower() for char in s if char.isalnum())\n",
        "  return cleaned_s == cleaned_s[::-1]\n",
        "\n",
        "# Example usage\n",
        "print(f\"Is 17 prime? {is_prime(17)}\")\n",
        "print(f\"Is 10 prime? {is_prime(10)}\")\n",
        "print(f\"Is 'racecar' a palindrome? {is_palindrome('racecar')}\")\n",
        "print(f\"Is 'Hello, World!' a palindrome? {is_palindrome('Hello, World!')}\")\n",
        "print(f\"Is 'A man, a plan, a canal: Panama.' a palindrome? {is_palindrome('A man, a plan, a canal: Panama.')}\")"
      ],
      "metadata": {
        "id": "AEQA0Bg6gFIb",
        "colab": {
          "base_uri": "https://localhost:8080/"
        },
        "outputId": "f02df1c5-b603-4a55-bcb3-c4e285a25c38"
      },
      "execution_count": null,
      "outputs": [
        {
          "output_type": "stream",
          "name": "stdout",
          "text": [
            "Is 17 prime? True\n",
            "Is 10 prime? False\n",
            "Is 'racecar' a palindrome? True\n",
            "Is 'Hello, World!' a palindrome? False\n",
            "Is 'A man, a plan, a canal: Panama.' a palindrome? True\n"
          ]
        }
      ]
    },
    {
      "cell_type": "markdown",
      "source": [
        "This code provides two functions: is_prime and is_palindrome.\n",
        "\n",
        "is_prime(n) function:\n",
        "\n",
        "if n <= 1:: Checks if the input number n is less than or equal to 1. Prime numbers are greater than 1, so if it's 1 or less, it's not prime and the function returns False.\n",
        "\n",
        "`for i in range(2, int(n0.5) + 1):**: This loop iterates from 2 up to the square root ofn(inclusive). We only need to check for divisors up to the square\n",
        "root because if a numbern` has a divisor greater than its square root, it must also have a divisor less than its square root.\n",
        "\n",
        "if n % i == 0:\n",
        "\n",
        " Inside the loop, this checks if n is divisible by the current number i with no remainder. If it is, n has a divisor other than 1 and itself, so it's not prime and the function returns False.\n",
        "\n",
        "return True:\n",
        "\n",
        " If the loop finishes without finding any divisors, it means n is only divisible by 1 and itself, so it is prime and the function returns True.\n",
        "\n",
        "is_palindrome(s) function:\n",
        "\n",
        "cleaned_s = ''.join(char.lower() for char in s if char.isalnum()): This line cleans the input strings.\n",
        "\n",
        " It does the following:\n",
        "\n",
        "for char in s if char.isalnum(): It iterates through each character in the input string s and keeps only the alphanumeric characters (letters and numbers).\n",
        "\n",
        "char.lower():\n",
        "\n",
        " It converts each selected character to lowercase.\n",
        "\n",
        "''.join(...):\n",
        "\n",
        " It joins the cleaned and lowercased characters back into a new string called cleaned_s.\n",
        "\n",
        "return cleaned_s == cleaned_s[::-1]:\n",
        "\n",
        "This is the core of the palindrome check.\n",
        "\n",
        "cleaned_s[::-1]:\n",
        "\n",
        " This creates a reversed version of the cleaned_s string using slicing. The [::-1] slice steps through the string backwards.\n",
        "\n",
        "cleaned_s == cleaned_s[::-1]:\n",
        "\n",
        " It compares the cleaned string with its reversed version. If they are the same, the original string (ignoring case and non-alphanumeric characters) is a palindrome, and the function returns True. Otherwise, it returns False."
      ],
      "metadata": {
        "id": "t0jqVj7Ihjiv"
      }
    },
    {
      "cell_type": "markdown",
      "source": [
        "Task Description #4\n",
        "\n",
        "●\tInstall and configure Cursor AI. Use it to generate a Python function (e.g., sum of the first N natural numbers) and test its output.\n",
        "\n",
        "●\tOptionally, compare Cursor AI’s generated code with Gemini’s output.\n",
        "\n",
        "Expected Output #4\n",
        "\n",
        "●\tScreenshots of Cursor AI setup, prompts used, and generated code with output.\n",
        "\n",
        "prompt:generate a code for sum of first N natural numbers"
      ],
      "metadata": {
        "id": "lM2Erh9wi1s2"
      }
    },
    {
      "cell_type": "code",
      "source": [
        "def sum_of_natural_numbers(n):\n",
        "  \"\"\"\n",
        "  Calculates the sum of the first N natural numbers.\n",
        "\n",
        "  Args:\n",
        "    n: The number of natural numbers to sum.\n",
        "\n",
        "  Returns:\n",
        "    The sum of the first N natural numbers.\n",
        "  \"\"\"\n",
        "  if n < 1:\n",
        "    return 0\n",
        "  else:\n",
        "    return n * (n + 1) // 2\n",
        "\n",
        "# Example usage\n",
        "n = 10\n",
        "sum_n = sum_of_natural_numbers(n)\n",
        "print(f\"The sum of the first {n} natural numbers is: {sum_n}\")\n",
        "\n",
        "n = 5\n",
        "sum_n = sum_of_natural_numbers(n)\n",
        "print(f\"The sum of the first {n} natural numbers is: {sum_n}\")"
      ],
      "metadata": {
        "colab": {
          "base_uri": "https://localhost:8080/"
        },
        "id": "8_2uRVPNjTWa",
        "outputId": "ced4bf0c-54fb-4ab1-c06d-19968df61dc9"
      },
      "execution_count": null,
      "outputs": [
        {
          "output_type": "stream",
          "name": "stdout",
          "text": [
            "The sum of the first 10 natural numbers is: 55\n",
            "The sum of the first 5 natural numbers is: 15\n"
          ]
        }
      ]
    },
    {
      "cell_type": "markdown",
      "source": [
        "This code defines a function called sum_of_natural_numbers that calculates the sum of the first n natural numbers.\n",
        "\n",
        "Here's a breakdown:\n",
        "\n",
        "def sum_of_natural_numbers(n)::\n",
        "\n",
        " This line defines the function named sum_of_natural_numbers that takes one argument, n.\n",
        "Docstring: The triple-quoted string explains what the function does, its arguments (Args), and what it returns (Returns).\n",
        "\n",
        "if n < 1::\n",
        "\n",
        " This checks if the input number n is less than 1. Natural numbers are typically considered to start from 1. If n is less than 1, the sum is 0.\n",
        "\n",
        "else::\n",
        "\n",
        " If n is 1 or greater, the code proceeds to the else block.\n",
        "\n",
        "return n * (n + 1) // 2:\n",
        "\n",
        " This is the core of the calculation. It uses the formula for the sum of the first n natural numbers: n * (n + 1) / 2. The // 2 ensures integer division.\n",
        "\n",
        "Example usage:\n",
        "\n",
        " The code then shows how to use the function with n = 10 and n = 5, printing the results using f-strings for formatting.\n"
      ],
      "metadata": {
        "id": "7Dzd1uGLju0s"
      }
    },
    {
      "cell_type": "markdown",
      "source": [
        "Task Description #5\n",
        "\n",
        "●\tStudents need to write a Python program to calculate the sum of odd numbers and even numbers in a given tuple.\n",
        "\n",
        "●\tRefactor the code to improve logic and readability.\n",
        "Expected Output #5\n",
        "\n",
        "●\tStudent-written refactored code with explanations and output screenshots.\n",
        "\n",
        "prompt:generate a code to calculate the sum of odd numbers and even numbers in a given tuple."
      ],
      "metadata": {
        "id": "2hHZWQIzj_1A"
      }
    },
    {
      "cell_type": "code",
      "source": [
        "def sum_odd_even(numbers):\n",
        "  \"\"\"\n",
        "  Calculates the sum of odd and even numbers in a tuple.\n",
        "\n",
        "  Args:\n",
        "    numbers: A tuple of numbers.\n",
        "\n",
        "  Returns:\n",
        "    A tuple containing the sum of odd numbers and the sum of even numbers.\n",
        "  \"\"\"\n",
        "  sum_odd = 0\n",
        "  sum_even = 0\n",
        "  for number in numbers:\n",
        "    if number % 2 == 0:\n",
        "      sum_even += number\n",
        "    else:\n",
        "      sum_odd += number\n",
        "  return sum_odd, sum_even\n",
        "\n",
        "# Example usage\n",
        "my_tuple = (1, 2, 3, 4, 5, 6, 7, 8, 9, 10)\n",
        "odd_sum, even_sum = sum_odd_even(my_tuple)\n",
        "\n",
        "print(f\"Tuple: {my_tuple}\")\n",
        "print(f\"Sum of odd numbers: {odd_sum}\")\n",
        "print(f\"Sum of even numbers: {even_sum}\")"
      ],
      "metadata": {
        "colab": {
          "base_uri": "https://localhost:8080/"
        },
        "id": "7I5kG8bjkhw2",
        "outputId": "2abc7ea5-85da-4ca0-b4b7-6b7df4cf6106"
      },
      "execution_count": null,
      "outputs": [
        {
          "output_type": "stream",
          "name": "stdout",
          "text": [
            "Tuple: (1, 2, 3, 4, 5, 6, 7, 8, 9, 10)\n",
            "Sum of odd numbers: 25\n",
            "Sum of even numbers: 30\n"
          ]
        }
      ]
    },
    {
      "cell_type": "markdown",
      "source": [
        "This code defines a function called sum_odd_even that calculates the sum of odd and even numbers within a given tuple.\n",
        "\n",
        "Here's a breakdown:\n",
        "\n",
        "def sum_odd_even(numbers)::\n",
        "\n",
        " This line defines the function named sum_odd_even which takes one argument, numbers, expected to be a tuple.\n",
        "\n",
        "\n",
        "Docstring:\n",
        "\n",
        "The triple-quoted string explains the purpose of the function, its arguments (Args), and what it returns (Returns).\n",
        "\n",
        "\n",
        "sum_odd = 0 and sum_even = 0:\n",
        "\n",
        " These lines initialize two variables to zero. sum_odd will store the running total of odd numbers, and sum_even will store the running total of even numbers.\n",
        "\n",
        "\n",
        "for number in numbers::\n",
        "\n",
        " This loop iterates through each element (number) in the input numbers tuple.\n",
        "\n",
        "\n",
        "if number % 2 == 0::\n",
        "\n",
        " Inside the loop, this condition checks if the current number is even. The modulo operator (%) returns the remainder of a division. If a number divided by 2 has a remainder of 0, it's an even number.\n",
        "\n",
        "\n",
        "sum_even += number:\n",
        "\n",
        " If the number is even, it's added to the sum_even variable.\n",
        "\n",
        "\n",
        "else::\n",
        "\n",
        " If the number is not even (meaning it's odd), the code enters the else block.\n",
        "\n",
        "\n",
        "sum_odd += number:\n",
        "\n",
        " The odd number is added to the sum_odd variable.\n",
        "\n",
        "\n",
        "return sum_odd, sum_even:\n",
        "\n",
        " After the loop finishes iterating through all numbers in the tuple, the function returns a tuple containing the final sum_odd and sum_even values.\n",
        "\n",
        "\n",
        "Example usage:\n",
        "\n",
        " The code then demonstrates how to use the function with a sample tuple my_tuple, unpacks the returned sums into odd_sum and even_sum, and prints the original tuple and the calculated sums using f-strings.\n"
      ],
      "metadata": {
        "id": "VbmxxLMIk09M"
      }
    }
  ]
}